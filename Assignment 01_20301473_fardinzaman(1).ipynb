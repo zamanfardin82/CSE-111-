{
 "cells": [
  {
   "cell_type": "code",
   "execution_count": 1,
   "metadata": {},
   "outputs": [
    {
     "name": "stdout",
     "output_type": "stream",
     "text": [
      "HOUse\n",
      "HOUSE\n"
     ]
    }
   ],
   "source": [
    "#1\n",
    "str=input()\n",
    "i=0\n",
    "c_l=0\n",
    "c_u=0\n",
    "while i<len(str):\n",
    "    if str[i].islower():\n",
    "        c_l+=1\n",
    "    elif str[i].isupper():\n",
    "        c_u+=1\n",
    "    i+=1\n",
    "if c_l>=c_u:\n",
    "    print(str.lower())\n",
    "else:\n",
    "    print(str.upper())\n",
    "    "
   ]
  },
  {
   "cell_type": "code",
   "execution_count": 2,
   "metadata": {},
   "outputs": [
    {
     "name": "stdout",
     "output_type": "stream",
     "text": [
      "123\n",
      "NUMBER\n"
     ]
    }
   ],
   "source": [
    "#2\n",
    "str=input()\n",
    "if str.isalpha():\n",
    "    print(\"WORD\")\n",
    "elif str.isdigit():\n",
    "    print(\"NUMBER\")\n",
    "else:\n",
    "    print(\"MIXED\")"
   ]
  },
  {
   "cell_type": "code",
   "execution_count": 3,
   "metadata": {},
   "outputs": [
    {
     "name": "stdout",
     "output_type": "stream",
     "text": [
      "banGladEsh\n",
      "lad\n"
     ]
    }
   ],
   "source": [
    "#3\n",
    "str=input()\n",
    "i=0\n",
    "j=0\n",
    "new_str=\"\"\n",
    "while i<len(str):\n",
    "    if str[i].isupper():\n",
    "        j+=1\n",
    "    elif j==2:\n",
    "        break\n",
    "    elif j==1:\n",
    "        new_str+=str[i]\n",
    "    i+=1    \n",
    "if len(new_str)==0:\n",
    "    print(\"BLANK\")\n",
    "else:\n",
    "    print(new_str)"
   ]
  },
  {
   "cell_type": "code",
   "execution_count": 4,
   "metadata": {},
   "outputs": [
    {
     "name": "stdout",
     "output_type": "stream",
     "text": [
      "The book is not too good!\n",
      "The book is not excellent!\n"
     ]
    }
   ],
   "source": [
    "#4\n",
    "str=input()\n",
    "check=0\n",
    "if str.find(\"too good\"):\n",
    "    str=str.replace(\"too good\",\"excellent\")\n",
    "    print(str)\n",
    "else:\n",
    "    print(str)"
   ]
  },
  {
   "cell_type": "code",
   "execution_count": 5,
   "metadata": {},
   "outputs": [
    {
     "name": "stdout",
     "output_type": "stream",
     "text": [
      "  harry \n",
      "hermonione\n",
      "hrrhr\n"
     ]
    }
   ],
   "source": [
    "#5\n",
    "str1=input()\n",
    "str2=input()\n",
    "str3=\"\"\n",
    "str4=\"\"\n",
    "i=0\n",
    "j=0\n",
    "while i<len(str1):\n",
    "    if str1[i] in str2:\n",
    "        str3+=str1[i]\n",
    "    i+=1\n",
    "    \n",
    "while j<len(str2):\n",
    "    if str2[j] in str1:\n",
    "        str4+=str2[j]\n",
    "    j+=1\n",
    "    \n",
    "final_str=str3+str4\n",
    "if final_str==\"\":\n",
    "    print(\"Nothing in Common\")\n",
    "else:\n",
    "    print(final_str)"
   ]
  },
  {
   "cell_type": "code",
   "execution_count": 6,
   "metadata": {},
   "outputs": [
    {
     "name": "stdout",
     "output_type": "stream",
     "text": [
      "ohMyBR@CU\n",
      "Digit missing"
     ]
    }
   ],
   "source": [
    "#6\n",
    "str=input()\n",
    "i=0\n",
    "clow=False\n",
    "cupr=False\n",
    "cspc=False\n",
    "cdigit=False\n",
    "msg=\"\"\n",
    "\n",
    "while i<len(str):\n",
    "    if str[i].islower():\n",
    "        clow=True\n",
    "    elif str[i].isupper():\n",
    "        cupr=True\n",
    "    elif str[i].isdigit():\n",
    "        cdigit=True\n",
    "    elif str[i]==\"_\" or str[i]==\"@\" or str[i]==\"$\" or str[i]==\"#\":\n",
    "        cspc=True\n",
    "    i+=1\n",
    "    \n",
    "if clow==cupr==cspc==cdigit==True:\n",
    "    print(\"OK\")\n",
    "else:\n",
    "    if clow==False:\n",
    "        msg+=\"Lowercase character missing, \"\n",
    "    if cupr==False:\n",
    "        msg+=\"Uppercase character missing, \"\n",
    "    if cdigit==False:\n",
    "        msg+=\"Digit missing,\"\n",
    "    if cspc==False:\n",
    "        msg+=\"Special character missing,\"\n",
    "   \n",
    "    print(msg+ \"\\b\",end=\"\")"
   ]
  },
  {
   "cell_type": "code",
   "execution_count": null,
   "metadata": {},
   "outputs": [],
   "source": [
    "#list_1\n",
    "l1=[]\n",
    "while True:\n",
    "    a=input('enter numbers: ')\n",
    "    if a == 'STOP':\n",
    "        break\n",
    "    else:\n",
    "        l1.append(a)\n",
    "dict={}\n",
    "for i in l1:\n",
    "    if i not in dict:\n",
    "        dict.update({i:1})\n",
    "    else:\n",
    "        dict[i]+=1\n",
    "for key,value in dict.items():\n",
    "    print(key,'-',value,'items')\n",
    "\n"
   ]
  },
  {
   "cell_type": "code",
   "execution_count": 7,
   "metadata": {},
   "outputs": [
    {
     "name": "stdout",
     "output_type": "stream",
     "text": [
      "4\n",
      "1 2 3\n",
      "4 5 6\n",
      "10 11 12\n",
      "7 8 9\n",
      "33\n",
      "[10,11,12]"
     ]
    }
   ],
   "source": [
    "#2\n",
    "l=[]\n",
    "val=int(input())\n",
    "i=0\n",
    "maxs=0\n",
    "maxl=[]\n",
    "while i<val:\n",
    "    str=input()\n",
    "    ls=str.split()\n",
    "    k=0\n",
    "    sum=0\n",
    "    while k<len(ls):\n",
    "        sum+=int(ls[k])\n",
    "        k+=1\n",
    "    #print(sum)\n",
    "    if sum>maxs:\n",
    "        maxs=sum\n",
    "        maxl=ls\n",
    "    i+=1\n",
    "\n",
    "print(maxs)\n",
    "print(\"[\",end=\"\")\n",
    "j=0\n",
    "while j<len(maxl)-1:\n",
    "    print(maxl[j],end=\",\")\n",
    "    j+=1\n",
    "print(maxl[-1],end=\"]\")"
   ]
  },
  {
   "cell_type": "code",
   "execution_count": 8,
   "metadata": {},
   "outputs": [
    {
     "name": "stdout",
     "output_type": "stream",
     "text": [
      "2 3 6\n",
      "3 4 5\n",
      "[6,8,10,9,12,15,18,24,30]"
     ]
    }
   ],
   "source": [
    "#3\n",
    "str1=input()\n",
    "str2=input()\n",
    "str1=str1.split()\n",
    "str2=str2.split()\n",
    "i=0\n",
    "lst=[]\n",
    "\n",
    "while i<len(str1):\n",
    "    j=0\n",
    "    while j<len(str2):\n",
    "        x=int(str1[i])*int(str2[j])\n",
    "        lst.append(x)\n",
    "        j+=1\n",
    "    i+=1\n",
    "\n",
    "print(\"[\",end=\"\")\n",
    "l=0\n",
    "while l<len(lst)-1:\n",
    "    print(lst[l],end=\",\")\n",
    "    l+=1\n",
    "print(lst[-1],end=\"]\")"
   ]
  },
  {
   "cell_type": "code",
   "execution_count": 10,
   "metadata": {},
   "outputs": [
    {
     "name": "stdout",
     "output_type": "stream",
     "text": [
      "1 4 2 3\n",
      "UB Jumper\n",
      "2 1 4 6 10\n",
      "UB Jumper\n",
      "1 4 2 -1 6\n",
      "Not UB Jumper\n",
      "STOP\n"
     ]
    }
   ],
   "source": [
    "#4\n",
    "while True:\n",
    "    str=input()\n",
    "    if str==\"STOP\":\n",
    "        break\n",
    "    else:\n",
    "        j=True\n",
    "        newstr=str.split()\n",
    "        n=len(newstr)\n",
    "        lst=[]\n",
    "        for i in range(n):\n",
    "            t=int(newstr[i])\n",
    "            lst.append(t)\n",
    "            ls=[]\n",
    "        for i in range(n-1):\n",
    "            a=abs(lst[i+1]-lst[i])\n",
    "            ls.append(a)\n",
    "            ls.sort()\n",
    "        for i in range(n-1):\n",
    "            if ls[i]!=i+1:\n",
    "                j=False\n",
    "        if j==False:\n",
    "            print(\"Not UB Jumper\")\n",
    "        else:\n",
    "            print(\"UB Jumper\")"
   ]
  },
  {
   "cell_type": "code",
   "execution_count": 11,
   "metadata": {},
   "outputs": [
    {
     "name": "stdout",
     "output_type": "stream",
     "text": [
      "Bracu1234\n",
      "acruB1324\n"
     ]
    }
   ],
   "source": [
    "#5\n",
    "def sstr(s):\n",
    "    l_c = []\n",
    "    u_c = []\n",
    "    od = []\n",
    "    ed = []\n",
    "    for char in s:\n",
    "        if char.islower():\n",
    "            l_c.append(char)\n",
    "        elif char.isupper():\n",
    "            u_c.append(char)\n",
    "        elif char.isdigit():\n",
    "            if int(char) % 2 == 0:\n",
    "                ed.append(char)\n",
    "            else:\n",
    "                od.append(char)\n",
    "    return (''.join(sorted(l_c) + sorted(u_c) + sorted(od) + sorted(ed)))\n",
    "\n",
    "\n",
    "s = input()\n",
    "print(sstr(s))"
   ]
  },
  {
   "cell_type": "code",
   "execution_count": null,
   "metadata": {},
   "outputs": [],
   "source": [
    "#6\n",
    "str1=input()\n",
    "str2=input()\n",
    "l=str1.split(\",\")\n",
    "l2=str2.split(\",\")\n",
    "newl=[]\n",
    "i=0\n",
    "while i<len(l)-1:\n",
    "    newl.append(l[i])\n",
    "    i+=1\n",
    "l3=newl+l2\n",
    "j=0\n",
    "print(\"[\",end=\"\")\n",
    "while j<len(l3)-1:\n",
    "    print(l3[j],end=\",\")\n",
    "    j+=1\n",
    "print(l3[-1],end=\"]\")\n"
   ]
  },
  {
   "cell_type": "code",
   "execution_count": 12,
   "metadata": {},
   "outputs": [
    {
     "name": "stdout",
     "output_type": "stream",
     "text": [
      "{'a': 400, 'b': 300, 'd': 700, 'e': 200}\n",
      "(200, 300, 400, 700)\n"
     ]
    }
   ],
   "source": [
    "#dict_1\n",
    "dict_1={'a':100,'b':100,'c':200,'d':300}\n",
    "dict_2={'a':300,'b':200,'d':400,'e':200}\n",
    "\n",
    "dict_3=dict(dict_2)\n",
    "\n",
    "for key_1,value_1 in dict_1.items():\n",
    "    for key_2,value_2 in dict_2.items():\n",
    "        if key_1==key_2:\n",
    "            dict_3[key_1]=(value_1+value_2)\n",
    "print(dict_3)\n",
    "\n",
    "l_1=[]\n",
    "for i,j in dict_3.items():\n",
    "    if j not in l_1:\n",
    "        l_1.append(j)\n",
    "        l_1.sort()\n",
    "print(tuple(l_1))"
   ]
  },
  {
   "cell_type": "code",
   "execution_count": 13,
   "metadata": {},
   "outputs": [
    {
     "name": "stdout",
     "output_type": "stream",
     "text": [
      "enter numbers: 10\n",
      "enter numbers: 20\n",
      "enter numbers: 20\n",
      "enter numbers: 30\n",
      "enter numbers: 10\n",
      "enter numbers: 50\n",
      "enter numbers: 90\n",
      "enter numbers: STOP\n",
      "10 - 2 items\n",
      "20 - 2 items\n",
      "30 - 1 items\n",
      "50 - 1 items\n",
      "90 - 1 items\n"
     ]
    }
   ],
   "source": [
    "#2\n",
    "l1=[]\n",
    "while True:\n",
    "    a=input('enter numbers: ')\n",
    "    if a == 'STOP':\n",
    "        break\n",
    "    else:\n",
    "        l1.append(a)\n",
    "dict={}\n",
    "for i in l1:\n",
    "    if i not in dict:\n",
    "        dict.update({i:1})\n",
    "    else:\n",
    "        dict[i]+=1\n",
    "for key,value in dict.items():\n",
    "    print(key,'-',value,'items')\n",
    "    "
   ]
  },
  {
   "cell_type": "code",
   "execution_count": null,
   "metadata": {},
   "outputs": [],
   "source": [
    "#3\n",
    "dict1 = {\"key1\":\"value1\",\"key2\":\"value2\",\"key3\":\"value1\"}\n",
    "re_dict1 = dict()\n",
    "for i,j in dict1.items():\n",
    "    if j not in re_dict1.keys():\n",
    "        l = [i]\n",
    "        for m,n in dict1.items():\n",
    "            if j==n and i!=m :\n",
    "                l.append(m)\n",
    "        re_dict1[j]=l\n",
    "print(re_dict1)"
   ]
  },
  {
   "cell_type": "code",
   "execution_count": 22,
   "metadata": {},
   "outputs": [
    {
     "name": "stdout",
     "output_type": "stream",
     "text": [
      "enter first word: evil\n",
      "enter second word: love\n",
      "Those strings are not anagrams.\n"
     ]
    }
   ],
   "source": [
    "#4\n",
    "a=input('enter first word: ')\n",
    "b=input('enter second word: ')\n",
    "\n",
    "c=a.lower()\n",
    "d=b.lower()\n",
    "l1=[]\n",
    "l2=[]\n",
    "\n",
    "for i in c:\n",
    "    l1.append(i)\n",
    "for j in d:\n",
    "    l2.append(j)\n",
    "l3=[]\n",
    "l4=[]\n",
    "for i in l1:\n",
    "    if i not in l3:\n",
    "        l3.append(i)\n",
    "for i in l2:\n",
    "    if i not in l4:\n",
    "        l4.append(i)\n",
    "l3.sort()\n",
    "l4.sort()\n",
    "d1={}\n",
    "d2={}\n",
    "for i in l3:\n",
    "    key=i\n",
    "    value=ord(i)\n",
    "    d1[key]=value\n",
    "for j in l4:\n",
    "    key=j\n",
    "    value=ord(j)\n",
    "    d2[key]=value\n",
    "length=len(l3)\n",
    "count=0\n",
    "for key1,value1 in d1.items():\n",
    "    for key2,value2 in d2.items():\n",
    "        if value1==value2 and key1==key2:\n",
    "            count=count+1\n",
    "if count==length:\n",
    "    print('Those strings are anagrams.')\n",
    "else:\n",
    "    print('Those strings are not anagrams.')"
   ]
  },
  {
   "cell_type": "code",
   "execution_count": null,
   "metadata": {},
   "outputs": [],
   "source": [
    "a=input('enter a word: ')\n",
    "word=''\n",
    "for i in a:\n",
    "    value=ord(i)\n",
    "    if 65<=value<=90:\n",
    "        word+=i\n",
    "    if 97<=value<=122:\n",
    "        b=i.upper()\n",
    "        word+=b\n",
    "    else:\n",
    "        word+=i\n",
    "print(word)\n",
    "given={1:'.,?!:',2:'ABC',3:'DEF',4:'GHI',5:'JKL',6:'MNO',7:'PQRS',8:'TUV',9:'WXYZ',0:''}\n",
    "\n",
    "for j in word:\n",
    "    for key,value in given.items():\n",
    "        count=0\n",
    "    for k in value:\n",
    "        count+=1\n",
    "        if j==k:\n",
    "            string=str(key)\n",
    "            final=string*count\n",
    "            print(final,end='')"
   ]
  }
 ],
 "metadata": {
  "kernelspec": {
   "display_name": "Python 3",
   "language": "python",
   "name": "python3"
  },
  "language_info": {
   "codemirror_mode": {
    "name": "ipython",
    "version": 3
   },
   "file_extension": ".py",
   "mimetype": "text/x-python",
   "name": "python",
   "nbconvert_exporter": "python",
   "pygments_lexer": "ipython3",
   "version": "3.6.11"
  }
 },
 "nbformat": 4,
 "nbformat_minor": 4
}
